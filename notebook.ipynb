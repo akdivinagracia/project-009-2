{
 "cells": [
  {
   "cell_type": "markdown",
   "id": "5bf946d5",
   "metadata": {},
   "source": [
    "# **Title** #"
   ]
  },
  {
   "cell_type": "markdown",
   "id": "c93d5705",
   "metadata": {},
   "source": [
    "By: Emma Savu (51050300), Sharon Kim (44152585), Anna Devinagracia (86144250), and Liam Sisson (54274535)"
   ]
  },
  {
   "cell_type": "markdown",
   "id": "28e48a75",
   "metadata": {},
   "source": [
    " # **Introduction** #"
   ]
  },
  {
   "cell_type": "markdown",
   "id": "fba9b555-9601-49b6-85e3-ebb65c1e1966",
   "metadata": {},
   "source": [
    "In this project, our goal is to answer the question:\n",
    "\n",
    "**Which set of two variables is best at accurately predicting a player's played hours using k-nearest neighbours (kNN) regression?**\n",
    "\n",
    "For some background, in machine learning, regression techniques are widely used to predict numerical outcomes based on one or more input variables. Among these methods, k-nearest neighbors (kNN) regression is a non-parametric approach that predicts the target variable by averaging the values of the k-closest data points in the feature space. kNN regression is valued for its simplicity, effectiveness, and ability to capture nonlinear relationships without assuming a specific model structure.\n",
    "\n",
    "In this project, we applied kNN regression to explore how well different pairs of variables can predict a player's total hours played in a gaming dataset. The goal was to determine which combination of two variables provides the most accurate predictions of hours played, enabling more informed decision-making or targeted interventions in gaming analytics.\n",
    "\n",
    "To answer our question, we combined the sessions.csv and the players.csv datasets, which contain information about individual players in an unspecified gaming context. The datasets include multiple features we can use, such as age, skill level, gender, played hours, time of day played, and start and end times. These variables potentially influence a player’s overall engagement, measured as hours played. By selecting specific pairs of these features, we sought to identify which combinations provide the strongest predictive power for hours played. We will convert the categorical variables to numerical numbers to analyze our model.\n",
    "\n",
    "This analysis highlights the strengths and limitations of kNN regression and emphasizes the importance of feature selection in predictive modelling. Ultimately, the results can inform how we interpret player behaviour and optimize predictions in similar datasets.\n",
    "\n",
    "The variables in the \"players\" dataset can be described as follows:\n",
    "\n",
    "- \"experience\": character variable indicating player skill level/experience\n",
    "- \"subscribe\": logical variable (binary) for email subscription status\n",
    "- \"hashedEmail\": character variable, unique player identifier\n",
    "- \"played_hours\": double precision, hours played to the tenth decimal\n",
    "- \"name\": character variable for player's name\n",
    "- \"gender\": character variable with 7 unique gender categories\n",
    "- \"age\": double precision for player’s age in years\n",
    "- \"individualId\": logical variable for player ID\n",
    "- \"organizationName\": logical variable for player's organization\n",
    "\n",
    "For the variables in the \"sessions\" dataset:\n",
    "\n",
    "- **Anna please add how you described your variables here :)**"
   ]
  },
  {
   "cell_type": "markdown",
   "id": "b1d1514f",
   "metadata": {},
   "source": [
    "# **Methods** #"
   ]
  },
  {
   "cell_type": "markdown",
   "id": "b8d4c44c-1772-49f5-9898-f8a7e91f47bd",
   "metadata": {},
   "source": []
  },
  {
   "cell_type": "markdown",
   "id": "91657230",
   "metadata": {},
   "source": [
    "# **Results** ##"
   ]
  },
  {
   "cell_type": "markdown",
   "id": "6a36275e",
   "metadata": {},
   "source": [
    "# **Discussion** #"
   ]
  },
  {
   "cell_type": "markdown",
   "id": "f92b11aa",
   "metadata": {},
   "source": [
    "# **References** #"
   ]
  },
  {
   "cell_type": "code",
   "execution_count": null,
   "id": "0f3c12f4",
   "metadata": {},
   "outputs": [],
   "source": []
  },
  {
   "cell_type": "code",
   "execution_count": null,
   "id": "e37464fe",
   "metadata": {},
   "outputs": [],
   "source": []
  }
 ],
 "metadata": {
  "kernelspec": {
   "display_name": "R",
   "language": "R",
   "name": "ir"
  },
  "language_info": {
   "codemirror_mode": "r",
   "file_extension": ".r",
   "mimetype": "text/x-r-source",
   "name": "R",
   "pygments_lexer": "r",
   "version": "4.3.3"
  }
 },
 "nbformat": 4,
 "nbformat_minor": 5
}
