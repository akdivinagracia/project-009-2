{
 "cells": [
  {
   "cell_type": "markdown",
   "id": "82f1eb8b-e1a3-45c7-b192-2c2d8cb138b4",
   "metadata": {},
   "source": [
    "hello my name is sharon"
   ]
  },
  {
   "cell_type": "code",
   "execution_count": null,
   "id": "9918be9c-07f1-4fa8-a3ac-b3b713eb4a04",
   "metadata": {},
   "outputs": [],
   "source": []
  },
  {
   "cell_type": "code",
   "execution_count": null,
   "id": "beb7474c-e43e-4d08-9bc1-01469cd6abce",
   "metadata": {},
   "outputs": [],
   "source": []
  }
 ],
 "metadata": {
  "kernelspec": {
   "display_name": "R",
   "language": "R",
   "name": "ir"
  },
  "language_info": {
   "codemirror_mode": "r",
   "file_extension": ".r",
   "mimetype": "text/x-r-source",
   "name": "R",
   "pygments_lexer": "r",
   "version": "4.3.3"
  }
 },
 "nbformat": 4,
 "nbformat_minor": 5
}
