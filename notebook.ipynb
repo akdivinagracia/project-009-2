{
 "cells": [
  {
   "cell_type": "markdown",
   "id": "82f1eb8b-e1a3-45c7-b192-2c2d8cb138b4",
   "metadata": {},
   "source": [
    "hello my name is sharon"
   ]
  },
  {
   "cell_type": "markdown",
   "id": "4410d410-934f-4a53-92ca-5b581363a388",
   "metadata": {},
   "source": [
    "Skibiti toilet"
   ]
  },
  {
   "cell_type": "code",
   "execution_count": null,
   "id": "beb7474c-e43e-4d08-9bc1-01469cd6abce",
   "metadata": {},
   "outputs": [],
   "source": []
  }
 ],
 "metadata": {
  "kernelspec": {
   "display_name": "R",
   "language": "R",
   "name": "ir"
  },
  "language_info": {
   "codemirror_mode": "r",
   "file_extension": ".r",
   "mimetype": "text/x-r-source",
   "name": "R",
   "pygments_lexer": "r",
   "version": "4.3.3"
  }
 },
 "nbformat": 4,
 "nbformat_minor": 5
}
