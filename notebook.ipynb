{
 "cells": [
  {
   "cell_type": "markdown",
   "id": "82f1eb8b-e1a3-45c7-b192-2c2d8cb138b4",
   "metadata": {},
   "source": [
    "# **Title** #"
   ]
  },
  {
   "cell_type": "markdown",
   "id": "4410d410-934f-4a53-92ca-5b581363a388",
   "metadata": {},
   "source": [
    "# **Introduction** #"
   ]
  },
  {
   "cell_type": "markdown",
   "id": "214ce3b8-999d-4919-939f-0a8e62cca62c",
   "metadata": {},
   "source": [
    "# **Methods** #"
   ]
  },
  {
   "cell_type": "markdown",
   "id": "ad00b354-a88b-449f-be8b-c2cd676029fa",
   "metadata": {},
   "source": [
    "# **Results** ##"
   ]
  },
  {
   "cell_type": "markdown",
   "id": "0cc56859-668c-4985-a2af-d189ea91978b",
   "metadata": {},
   "source": [
    "# **Discussion** #"
   ]
  },
  {
   "cell_type": "markdown",
   "id": "8123a347-3866-45eb-9b24-c47dfca96f8c",
   "metadata": {},
   "source": [
    "# **References** #"
   ]
  },
  {
   "cell_type": "code",
   "execution_count": null,
   "id": "ccaa9766-6f64-4f7e-9bc1-82daa7a3eed3",
   "metadata": {},
   "outputs": [],
   "source": []
  }
 ],
 "metadata": {
  "kernelspec": {
   "display_name": "R",
   "language": "R",
   "name": "ir"
  },
  "language_info": {
   "codemirror_mode": "r",
   "file_extension": ".r",
   "mimetype": "text/x-r-source",
   "name": "R",
   "pygments_lexer": "r",
   "version": "4.3.3"
  }
 },
 "nbformat": 4,
 "nbformat_minor": 5
}
