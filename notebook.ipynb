{
 "cells": [
  {
   "cell_type": "markdown",
   "id": "5bf946d5",
   "metadata": {},
   "source": [
    "# **Title** #"
   ]
  },
  {
   "cell_type": "markdown",
   "id": "c93d5705",
   "metadata": {},
   "source": [
    "By: Emma Savu (51050300), Sharon Kim (44152585), Anna Divinagracia (86144250), and Liam Sisson (54274535)"
   ]
  },
  {
   "cell_type": "markdown",
   "id": "28e48a75",
   "metadata": {},
   "source": [
    " # **Introduction** #"
   ]
  },
  {
   "cell_type": "markdown",
   "id": "fba9b555-9601-49b6-85e3-ebb65c1e1966",
   "metadata": {},
   "source": [
    "##### In this project, our goal is to answer the question:\n",
    "\n",
    "**Which set of two variables is best at accurately predicting a player's played hours using k-nearest neighbours (kNN) regression?**\n",
    "\n",
    "For some background, in machine learning, regression techniques are widely used to predict numerical outcomes based on one or more input variables. Among these methods, k-nearest neighbors (kNN) regression is a non-parametric approach that predicts the target variable by averaging the values of the k-closest data points in the feature space. kNN regression is valued for its simplicity, effectiveness, and ability to capture nonlinear relationships without assuming a specific model structure.\n",
    "\n",
    "In this project, we applied kNN regression to explore how well different pairs of variables can predict a player's total hours played in a gaming dataset. The goal was to determine which combination of two variables provides the most accurate predictions of hours played, enabling more informed decision-making or targeted interventions in gaming analytics.\n",
    "\n",
    "To answer our question, we combined the `sessions.csv` and the `players.csv` datasets, which contain information about individual players in an unspecified gaming context. The datasets include multiple features we can use, such as age, skill level, gender, played hours, time of day played, and start and end times. These variables potentially influence a player’s overall engagement, measured as hours played. By selecting specific pairs of these features, we sought to identify which combinations provide the strongest predictive power for hours played. We will convert the categorical variables to numerical numbers to analyze our model.\n",
    "\n",
    "This analysis highlights the strengths and limitations of kNN regression and emphasizes the importance of feature selection in predictive modelling. Ultimately, the results can inform how we interpret player behaviour and optimize predictions in similar datasets.\n",
    "\n",
    "The variables in the `players` dataset containing 196 observations can be described as follows:\n",
    "\n",
    "- `experience`: character variable indicating player skill level/experience\n",
    "- `subscribe`: logical variable (binary) for email subscription status\n",
    "- `hashedEmail`: character variable, unique player identifier\n",
    "- `played_hours`: double precision, hours played to the tenth decimal\n",
    "- `name`: character variable for player's name\n",
    "- `gender`: character variable with 7 unique gender categories\n",
    "- `age`: double precision for player’s age in years\n",
    "- `individualId`: logical variable for player ID\n",
    "- `organizationName`: logical variable for player's organization\n",
    "\n",
    "Furthermore, the variables in the `sessions` dataset containing 1535 observations can be described as:\n",
    "\n",
    "- `hashedEmail`: character variable, unique player identifier\n",
    "- `start_time`: character variable for start date in DD/MM/YYYY and start time in 00:00 of the player's game session\n",
    "- `end_time`: character variable for end date in DD/MM/YYYY and end time in 00:00 of the player's game session\n",
    "- `original_start_time`: double data type for start time in UNIX timestamp format of the player's game session\n",
    "- `original_end_time`: double data type for end time in UNIX timestamp format of the player's game session"
   ]
  },
  {
   "cell_type": "markdown",
   "id": "b1d1514f",
   "metadata": {},
   "source": [
    "# **Methods** #"
   ]
  },
  {
   "cell_type": "code",
   "execution_count": 27,
   "id": "7c4702a2-bd78-41a3-8db6-9f5f5d2fb4fa",
   "metadata": {},
   "outputs": [],
   "source": [
    "library(tidyverse)\n",
    "library(repr)\n",
    "library(tidymodels)\n"
   ]
  },
  {
   "cell_type": "code",
   "execution_count": 28,
   "id": "b619dc43-7ea0-465a-a0cc-bf56e9d7a743",
   "metadata": {},
   "outputs": [
    {
     "name": "stderr",
     "output_type": "stream",
     "text": [
      "\u001b[1mRows: \u001b[22m\u001b[34m196\u001b[39m \u001b[1mColumns: \u001b[22m\u001b[34m9\u001b[39m\n",
      "\u001b[36m──\u001b[39m \u001b[1mColumn specification\u001b[22m \u001b[36m────────────────────────────────────────────────────────\u001b[39m\n",
      "\u001b[1mDelimiter:\u001b[22m \",\"\n",
      "\u001b[31mchr\u001b[39m (4): experience, hashedEmail, name, gender\n",
      "\u001b[32mdbl\u001b[39m (2): played_hours, age\n",
      "\u001b[33mlgl\u001b[39m (3): subscribe, individualId, organizationName\n",
      "\n",
      "\u001b[36mℹ\u001b[39m Use `spec()` to retrieve the full column specification for this data.\n",
      "\u001b[36mℹ\u001b[39m Specify the column types or set `show_col_types = FALSE` to quiet this message.\n"
     ]
    },
    {
     "data": {
      "text/html": [
       "<table class=\"dataframe\">\n",
       "<caption>A tibble: 6 × 9</caption>\n",
       "<thead>\n",
       "\t<tr><th scope=col>experience</th><th scope=col>subscribe</th><th scope=col>hashedEmail</th><th scope=col>played_hours</th><th scope=col>name</th><th scope=col>gender</th><th scope=col>age</th><th scope=col>individualId</th><th scope=col>organizationName</th></tr>\n",
       "\t<tr><th scope=col>&lt;chr&gt;</th><th scope=col>&lt;lgl&gt;</th><th scope=col>&lt;chr&gt;</th><th scope=col>&lt;dbl&gt;</th><th scope=col>&lt;chr&gt;</th><th scope=col>&lt;chr&gt;</th><th scope=col>&lt;dbl&gt;</th><th scope=col>&lt;lgl&gt;</th><th scope=col>&lt;lgl&gt;</th></tr>\n",
       "</thead>\n",
       "<tbody>\n",
       "\t<tr><td>Pro    </td><td> TRUE</td><td>f6daba428a5e19a3d47574858c13550499be23603422e6a0ee9728f8b53e192d</td><td>30.3</td><td>Morgan   </td><td>Male  </td><td> 9</td><td>NA</td><td>NA</td></tr>\n",
       "\t<tr><td>Veteran</td><td> TRUE</td><td>f3c813577c458ba0dfef80996f8f32c93b6e8af1fa939732842f2312358a88e9</td><td> 3.8</td><td>Christian</td><td>Male  </td><td>17</td><td>NA</td><td>NA</td></tr>\n",
       "\t<tr><td>Veteran</td><td>FALSE</td><td>b674dd7ee0d24096d1c019615ce4d12b20fcbff12d79d3c5a9d2118eb7ccbb28</td><td> 0.0</td><td>Blake    </td><td>Male  </td><td>17</td><td>NA</td><td>NA</td></tr>\n",
       "\t<tr><td>Amateur</td><td> TRUE</td><td>23fe711e0e3b77f1da7aa221ab1192afe21648d47d2b4fa7a5a659ff443a0eb5</td><td> 0.7</td><td>Flora    </td><td>Female</td><td>21</td><td>NA</td><td>NA</td></tr>\n",
       "\t<tr><td>Regular</td><td> TRUE</td><td>7dc01f10bf20671ecfccdac23812b1b415acd42c2147cb0af4d48fcce2420f3e</td><td> 0.1</td><td>Kylie    </td><td>Male  </td><td>21</td><td>NA</td><td>NA</td></tr>\n",
       "\t<tr><td>Amateur</td><td> TRUE</td><td>f58aad5996a435f16b0284a3b267f973f9af99e7a89bee0430055a44fa92f977</td><td> 0.0</td><td>Adrian   </td><td>Female</td><td>17</td><td>NA</td><td>NA</td></tr>\n",
       "</tbody>\n",
       "</table>\n"
      ],
      "text/latex": [
       "A tibble: 6 × 9\n",
       "\\begin{tabular}{lllllllll}\n",
       " experience & subscribe & hashedEmail & played\\_hours & name & gender & age & individualId & organizationName\\\\\n",
       " <chr> & <lgl> & <chr> & <dbl> & <chr> & <chr> & <dbl> & <lgl> & <lgl>\\\\\n",
       "\\hline\n",
       "\t Pro     &  TRUE & f6daba428a5e19a3d47574858c13550499be23603422e6a0ee9728f8b53e192d & 30.3 & Morgan    & Male   &  9 & NA & NA\\\\\n",
       "\t Veteran &  TRUE & f3c813577c458ba0dfef80996f8f32c93b6e8af1fa939732842f2312358a88e9 &  3.8 & Christian & Male   & 17 & NA & NA\\\\\n",
       "\t Veteran & FALSE & b674dd7ee0d24096d1c019615ce4d12b20fcbff12d79d3c5a9d2118eb7ccbb28 &  0.0 & Blake     & Male   & 17 & NA & NA\\\\\n",
       "\t Amateur &  TRUE & 23fe711e0e3b77f1da7aa221ab1192afe21648d47d2b4fa7a5a659ff443a0eb5 &  0.7 & Flora     & Female & 21 & NA & NA\\\\\n",
       "\t Regular &  TRUE & 7dc01f10bf20671ecfccdac23812b1b415acd42c2147cb0af4d48fcce2420f3e &  0.1 & Kylie     & Male   & 21 & NA & NA\\\\\n",
       "\t Amateur &  TRUE & f58aad5996a435f16b0284a3b267f973f9af99e7a89bee0430055a44fa92f977 &  0.0 & Adrian    & Female & 17 & NA & NA\\\\\n",
       "\\end{tabular}\n"
      ],
      "text/markdown": [
       "\n",
       "A tibble: 6 × 9\n",
       "\n",
       "| experience &lt;chr&gt; | subscribe &lt;lgl&gt; | hashedEmail &lt;chr&gt; | played_hours &lt;dbl&gt; | name &lt;chr&gt; | gender &lt;chr&gt; | age &lt;dbl&gt; | individualId &lt;lgl&gt; | organizationName &lt;lgl&gt; |\n",
       "|---|---|---|---|---|---|---|---|---|\n",
       "| Pro     |  TRUE | f6daba428a5e19a3d47574858c13550499be23603422e6a0ee9728f8b53e192d | 30.3 | Morgan    | Male   |  9 | NA | NA |\n",
       "| Veteran |  TRUE | f3c813577c458ba0dfef80996f8f32c93b6e8af1fa939732842f2312358a88e9 |  3.8 | Christian | Male   | 17 | NA | NA |\n",
       "| Veteran | FALSE | b674dd7ee0d24096d1c019615ce4d12b20fcbff12d79d3c5a9d2118eb7ccbb28 |  0.0 | Blake     | Male   | 17 | NA | NA |\n",
       "| Amateur |  TRUE | 23fe711e0e3b77f1da7aa221ab1192afe21648d47d2b4fa7a5a659ff443a0eb5 |  0.7 | Flora     | Female | 21 | NA | NA |\n",
       "| Regular |  TRUE | 7dc01f10bf20671ecfccdac23812b1b415acd42c2147cb0af4d48fcce2420f3e |  0.1 | Kylie     | Male   | 21 | NA | NA |\n",
       "| Amateur |  TRUE | f58aad5996a435f16b0284a3b267f973f9af99e7a89bee0430055a44fa92f977 |  0.0 | Adrian    | Female | 17 | NA | NA |\n",
       "\n"
      ],
      "text/plain": [
       "  experience subscribe\n",
       "1 Pro         TRUE    \n",
       "2 Veteran     TRUE    \n",
       "3 Veteran    FALSE    \n",
       "4 Amateur     TRUE    \n",
       "5 Regular     TRUE    \n",
       "6 Amateur     TRUE    \n",
       "  hashedEmail                                                      played_hours\n",
       "1 f6daba428a5e19a3d47574858c13550499be23603422e6a0ee9728f8b53e192d 30.3        \n",
       "2 f3c813577c458ba0dfef80996f8f32c93b6e8af1fa939732842f2312358a88e9  3.8        \n",
       "3 b674dd7ee0d24096d1c019615ce4d12b20fcbff12d79d3c5a9d2118eb7ccbb28  0.0        \n",
       "4 23fe711e0e3b77f1da7aa221ab1192afe21648d47d2b4fa7a5a659ff443a0eb5  0.7        \n",
       "5 7dc01f10bf20671ecfccdac23812b1b415acd42c2147cb0af4d48fcce2420f3e  0.1        \n",
       "6 f58aad5996a435f16b0284a3b267f973f9af99e7a89bee0430055a44fa92f977  0.0        \n",
       "  name      gender age individualId organizationName\n",
       "1 Morgan    Male    9  NA           NA              \n",
       "2 Christian Male   17  NA           NA              \n",
       "3 Blake     Male   17  NA           NA              \n",
       "4 Flora     Female 21  NA           NA              \n",
       "5 Kylie     Male   21  NA           NA              \n",
       "6 Adrian    Female 17  NA           NA              "
      ]
     },
     "metadata": {},
     "output_type": "display_data"
    }
   ],
   "source": [
    "#load in players data table\n",
    "url <- \"https://drive.google.com/uc?export=download&id=1Mw9vW0hjTJwRWx0bDXiSpYsO3gKogaPz\"\n",
    "players <- read_csv(url)\n",
    "head(players)"
   ]
  },
  {
   "cell_type": "code",
   "execution_count": 29,
   "id": "2cfdb26e-e9b3-4ea1-a6c2-85a1e9869aca",
   "metadata": {},
   "outputs": [
    {
     "name": "stderr",
     "output_type": "stream",
     "text": [
      "\u001b[1mRows: \u001b[22m\u001b[34m1535\u001b[39m \u001b[1mColumns: \u001b[22m\u001b[34m5\u001b[39m\n",
      "\u001b[36m──\u001b[39m \u001b[1mColumn specification\u001b[22m \u001b[36m────────────────────────────────────────────────────────\u001b[39m\n",
      "\u001b[1mDelimiter:\u001b[22m \",\"\n",
      "\u001b[31mchr\u001b[39m (3): hashedEmail, start_time, end_time\n",
      "\u001b[32mdbl\u001b[39m (2): original_start_time, original_end_time\n",
      "\n",
      "\u001b[36mℹ\u001b[39m Use `spec()` to retrieve the full column specification for this data.\n",
      "\u001b[36mℹ\u001b[39m Specify the column types or set `show_col_types = FALSE` to quiet this message.\n"
     ]
    },
    {
     "data": {
      "text/html": [
       "<table class=\"dataframe\">\n",
       "<caption>A tibble: 6 × 5</caption>\n",
       "<thead>\n",
       "\t<tr><th scope=col>hashedEmail</th><th scope=col>start_time</th><th scope=col>end_time</th><th scope=col>original_start_time</th><th scope=col>original_end_time</th></tr>\n",
       "\t<tr><th scope=col>&lt;chr&gt;</th><th scope=col>&lt;chr&gt;</th><th scope=col>&lt;chr&gt;</th><th scope=col>&lt;dbl&gt;</th><th scope=col>&lt;dbl&gt;</th></tr>\n",
       "</thead>\n",
       "<tbody>\n",
       "\t<tr><td>bfce39c89d6549f2bb94d8064d3ce69dc3d7e72b38f431d8aa0c4bf95ccee6bf</td><td>30/06/2024 18:12</td><td>30/06/2024 18:24</td><td>1.71977e+12</td><td>1.71977e+12</td></tr>\n",
       "\t<tr><td>36d9cbb4c6bc0c1a6911436d2da0d09ec625e43e6552f575d4acc9cf487c4686</td><td>17/06/2024 23:33</td><td>17/06/2024 23:46</td><td>1.71867e+12</td><td>1.71867e+12</td></tr>\n",
       "\t<tr><td>f8f5477f5a2e53616ae37421b1c660b971192bd8ff77e3398304c7ae42581fdc</td><td>25/07/2024 17:34</td><td>25/07/2024 17:57</td><td>1.72193e+12</td><td>1.72193e+12</td></tr>\n",
       "\t<tr><td>bfce39c89d6549f2bb94d8064d3ce69dc3d7e72b38f431d8aa0c4bf95ccee6bf</td><td>25/07/2024 03:22</td><td>25/07/2024 03:58</td><td>1.72188e+12</td><td>1.72188e+12</td></tr>\n",
       "\t<tr><td>36d9cbb4c6bc0c1a6911436d2da0d09ec625e43e6552f575d4acc9cf487c4686</td><td>25/05/2024 16:01</td><td>25/05/2024 16:12</td><td>1.71665e+12</td><td>1.71665e+12</td></tr>\n",
       "\t<tr><td>bfce39c89d6549f2bb94d8064d3ce69dc3d7e72b38f431d8aa0c4bf95ccee6bf</td><td>23/06/2024 15:08</td><td>23/06/2024 17:10</td><td>1.71916e+12</td><td>1.71916e+12</td></tr>\n",
       "</tbody>\n",
       "</table>\n"
      ],
      "text/latex": [
       "A tibble: 6 × 5\n",
       "\\begin{tabular}{lllll}\n",
       " hashedEmail & start\\_time & end\\_time & original\\_start\\_time & original\\_end\\_time\\\\\n",
       " <chr> & <chr> & <chr> & <dbl> & <dbl>\\\\\n",
       "\\hline\n",
       "\t bfce39c89d6549f2bb94d8064d3ce69dc3d7e72b38f431d8aa0c4bf95ccee6bf & 30/06/2024 18:12 & 30/06/2024 18:24 & 1.71977e+12 & 1.71977e+12\\\\\n",
       "\t 36d9cbb4c6bc0c1a6911436d2da0d09ec625e43e6552f575d4acc9cf487c4686 & 17/06/2024 23:33 & 17/06/2024 23:46 & 1.71867e+12 & 1.71867e+12\\\\\n",
       "\t f8f5477f5a2e53616ae37421b1c660b971192bd8ff77e3398304c7ae42581fdc & 25/07/2024 17:34 & 25/07/2024 17:57 & 1.72193e+12 & 1.72193e+12\\\\\n",
       "\t bfce39c89d6549f2bb94d8064d3ce69dc3d7e72b38f431d8aa0c4bf95ccee6bf & 25/07/2024 03:22 & 25/07/2024 03:58 & 1.72188e+12 & 1.72188e+12\\\\\n",
       "\t 36d9cbb4c6bc0c1a6911436d2da0d09ec625e43e6552f575d4acc9cf487c4686 & 25/05/2024 16:01 & 25/05/2024 16:12 & 1.71665e+12 & 1.71665e+12\\\\\n",
       "\t bfce39c89d6549f2bb94d8064d3ce69dc3d7e72b38f431d8aa0c4bf95ccee6bf & 23/06/2024 15:08 & 23/06/2024 17:10 & 1.71916e+12 & 1.71916e+12\\\\\n",
       "\\end{tabular}\n"
      ],
      "text/markdown": [
       "\n",
       "A tibble: 6 × 5\n",
       "\n",
       "| hashedEmail &lt;chr&gt; | start_time &lt;chr&gt; | end_time &lt;chr&gt; | original_start_time &lt;dbl&gt; | original_end_time &lt;dbl&gt; |\n",
       "|---|---|---|---|---|\n",
       "| bfce39c89d6549f2bb94d8064d3ce69dc3d7e72b38f431d8aa0c4bf95ccee6bf | 30/06/2024 18:12 | 30/06/2024 18:24 | 1.71977e+12 | 1.71977e+12 |\n",
       "| 36d9cbb4c6bc0c1a6911436d2da0d09ec625e43e6552f575d4acc9cf487c4686 | 17/06/2024 23:33 | 17/06/2024 23:46 | 1.71867e+12 | 1.71867e+12 |\n",
       "| f8f5477f5a2e53616ae37421b1c660b971192bd8ff77e3398304c7ae42581fdc | 25/07/2024 17:34 | 25/07/2024 17:57 | 1.72193e+12 | 1.72193e+12 |\n",
       "| bfce39c89d6549f2bb94d8064d3ce69dc3d7e72b38f431d8aa0c4bf95ccee6bf | 25/07/2024 03:22 | 25/07/2024 03:58 | 1.72188e+12 | 1.72188e+12 |\n",
       "| 36d9cbb4c6bc0c1a6911436d2da0d09ec625e43e6552f575d4acc9cf487c4686 | 25/05/2024 16:01 | 25/05/2024 16:12 | 1.71665e+12 | 1.71665e+12 |\n",
       "| bfce39c89d6549f2bb94d8064d3ce69dc3d7e72b38f431d8aa0c4bf95ccee6bf | 23/06/2024 15:08 | 23/06/2024 17:10 | 1.71916e+12 | 1.71916e+12 |\n",
       "\n"
      ],
      "text/plain": [
       "  hashedEmail                                                     \n",
       "1 bfce39c89d6549f2bb94d8064d3ce69dc3d7e72b38f431d8aa0c4bf95ccee6bf\n",
       "2 36d9cbb4c6bc0c1a6911436d2da0d09ec625e43e6552f575d4acc9cf487c4686\n",
       "3 f8f5477f5a2e53616ae37421b1c660b971192bd8ff77e3398304c7ae42581fdc\n",
       "4 bfce39c89d6549f2bb94d8064d3ce69dc3d7e72b38f431d8aa0c4bf95ccee6bf\n",
       "5 36d9cbb4c6bc0c1a6911436d2da0d09ec625e43e6552f575d4acc9cf487c4686\n",
       "6 bfce39c89d6549f2bb94d8064d3ce69dc3d7e72b38f431d8aa0c4bf95ccee6bf\n",
       "  start_time       end_time         original_start_time original_end_time\n",
       "1 30/06/2024 18:12 30/06/2024 18:24 1.71977e+12         1.71977e+12      \n",
       "2 17/06/2024 23:33 17/06/2024 23:46 1.71867e+12         1.71867e+12      \n",
       "3 25/07/2024 17:34 25/07/2024 17:57 1.72193e+12         1.72193e+12      \n",
       "4 25/07/2024 03:22 25/07/2024 03:58 1.72188e+12         1.72188e+12      \n",
       "5 25/05/2024 16:01 25/05/2024 16:12 1.71665e+12         1.71665e+12      \n",
       "6 23/06/2024 15:08 23/06/2024 17:10 1.71916e+12         1.71916e+12      "
      ]
     },
     "metadata": {},
     "output_type": "display_data"
    }
   ],
   "source": [
    "#load in sessions data table\n",
    "url <- \"https://drive.google.com/uc?export=download&id=14O91N5OlVkvdGxXNJUj5jIsV5RexhzbB\"\n",
    "sessions <- read_csv(url) \n",
    "head(sessions)"
   ]
  },
  {
   "cell_type": "code",
   "execution_count": 30,
   "id": "e391aa40-8313-46a4-9485-ff87290325fd",
   "metadata": {},
   "outputs": [
    {
     "data": {
      "text/html": [
       "<table class=\"dataframe\">\n",
       "<caption>A data.frame: 6 × 13</caption>\n",
       "<thead>\n",
       "\t<tr><th></th><th scope=col>hashedEmail</th><th scope=col>start_time</th><th scope=col>end_time</th><th scope=col>original_start_time</th><th scope=col>original_end_time</th><th scope=col>experience</th><th scope=col>subscribe</th><th scope=col>played_hours</th><th scope=col>name</th><th scope=col>gender</th><th scope=col>age</th><th scope=col>individualId</th><th scope=col>organizationName</th></tr>\n",
       "\t<tr><th></th><th scope=col>&lt;chr&gt;</th><th scope=col>&lt;chr&gt;</th><th scope=col>&lt;chr&gt;</th><th scope=col>&lt;dbl&gt;</th><th scope=col>&lt;dbl&gt;</th><th scope=col>&lt;chr&gt;</th><th scope=col>&lt;lgl&gt;</th><th scope=col>&lt;dbl&gt;</th><th scope=col>&lt;chr&gt;</th><th scope=col>&lt;chr&gt;</th><th scope=col>&lt;dbl&gt;</th><th scope=col>&lt;lgl&gt;</th><th scope=col>&lt;lgl&gt;</th></tr>\n",
       "</thead>\n",
       "<tbody>\n",
       "\t<tr><th scope=row>1</th><td>0088b5e134c3f0498a18c7ea6b8d77b4b0ff1636fc93355ccc95b45423367832</td><td>23/05/2024 00:22</td><td>23/05/2024 01:07</td><td>1.71642e+12</td><td>1.71643e+12</td><td>Regular </td><td> TRUE</td><td>1.5</td><td>Isaac  </td><td>Male</td><td>20</td><td>NA</td><td>NA</td></tr>\n",
       "\t<tr><th scope=row>2</th><td>0088b5e134c3f0498a18c7ea6b8d77b4b0ff1636fc93355ccc95b45423367832</td><td>22/05/2024 23:12</td><td>23/05/2024 00:13</td><td>1.71642e+12</td><td>1.71642e+12</td><td>Regular </td><td> TRUE</td><td>1.5</td><td>Isaac  </td><td>Male</td><td>20</td><td>NA</td><td>NA</td></tr>\n",
       "\t<tr><th scope=row>3</th><td>060aca80f8cfbf1c91553a72f4d5ec8034764b05ab59fe8e1cf0eee9a7b67967</td><td>28/06/2024 04:28</td><td>28/06/2024 04:58</td><td>1.71955e+12</td><td>1.71955e+12</td><td>Pro     </td><td>FALSE</td><td>0.4</td><td>Lyra   </td><td>Male</td><td>21</td><td>NA</td><td>NA</td></tr>\n",
       "\t<tr><th scope=row>4</th><td>0ce7bfa910d47fc91f21a7b3acd8f33bde6db57912ce0290fa0437ce0b97f387</td><td>19/09/2024 21:01</td><td>19/09/2024 21:12</td><td>1.72678e+12</td><td>1.72678e+12</td><td>Beginner</td><td> TRUE</td><td>0.1</td><td>Osiris </td><td>Male</td><td>17</td><td>NA</td><td>NA</td></tr>\n",
       "\t<tr><th scope=row>5</th><td>0d4d71be33e2bc7266ee4983002bd930f69d304288a8663529c875f40f1750f3</td><td>31/08/2024 22:44</td><td>31/08/2024 23:20</td><td>1.72514e+12</td><td>1.72515e+12</td><td>Regular </td><td> TRUE</td><td>5.6</td><td>Winslow</td><td>Male</td><td>17</td><td>NA</td><td>NA</td></tr>\n",
       "\t<tr><th scope=row>6</th><td>0d4d71be33e2bc7266ee4983002bd930f69d304288a8663529c875f40f1750f3</td><td>01/09/2024 21:59</td><td>01/09/2024 22:36</td><td>1.72523e+12</td><td>1.72523e+12</td><td>Regular </td><td> TRUE</td><td>5.6</td><td>Winslow</td><td>Male</td><td>17</td><td>NA</td><td>NA</td></tr>\n",
       "</tbody>\n",
       "</table>\n"
      ],
      "text/latex": [
       "A data.frame: 6 × 13\n",
       "\\begin{tabular}{r|lllllllllllll}\n",
       "  & hashedEmail & start\\_time & end\\_time & original\\_start\\_time & original\\_end\\_time & experience & subscribe & played\\_hours & name & gender & age & individualId & organizationName\\\\\n",
       "  & <chr> & <chr> & <chr> & <dbl> & <dbl> & <chr> & <lgl> & <dbl> & <chr> & <chr> & <dbl> & <lgl> & <lgl>\\\\\n",
       "\\hline\n",
       "\t1 & 0088b5e134c3f0498a18c7ea6b8d77b4b0ff1636fc93355ccc95b45423367832 & 23/05/2024 00:22 & 23/05/2024 01:07 & 1.71642e+12 & 1.71643e+12 & Regular  &  TRUE & 1.5 & Isaac   & Male & 20 & NA & NA\\\\\n",
       "\t2 & 0088b5e134c3f0498a18c7ea6b8d77b4b0ff1636fc93355ccc95b45423367832 & 22/05/2024 23:12 & 23/05/2024 00:13 & 1.71642e+12 & 1.71642e+12 & Regular  &  TRUE & 1.5 & Isaac   & Male & 20 & NA & NA\\\\\n",
       "\t3 & 060aca80f8cfbf1c91553a72f4d5ec8034764b05ab59fe8e1cf0eee9a7b67967 & 28/06/2024 04:28 & 28/06/2024 04:58 & 1.71955e+12 & 1.71955e+12 & Pro      & FALSE & 0.4 & Lyra    & Male & 21 & NA & NA\\\\\n",
       "\t4 & 0ce7bfa910d47fc91f21a7b3acd8f33bde6db57912ce0290fa0437ce0b97f387 & 19/09/2024 21:01 & 19/09/2024 21:12 & 1.72678e+12 & 1.72678e+12 & Beginner &  TRUE & 0.1 & Osiris  & Male & 17 & NA & NA\\\\\n",
       "\t5 & 0d4d71be33e2bc7266ee4983002bd930f69d304288a8663529c875f40f1750f3 & 31/08/2024 22:44 & 31/08/2024 23:20 & 1.72514e+12 & 1.72515e+12 & Regular  &  TRUE & 5.6 & Winslow & Male & 17 & NA & NA\\\\\n",
       "\t6 & 0d4d71be33e2bc7266ee4983002bd930f69d304288a8663529c875f40f1750f3 & 01/09/2024 21:59 & 01/09/2024 22:36 & 1.72523e+12 & 1.72523e+12 & Regular  &  TRUE & 5.6 & Winslow & Male & 17 & NA & NA\\\\\n",
       "\\end{tabular}\n"
      ],
      "text/markdown": [
       "\n",
       "A data.frame: 6 × 13\n",
       "\n",
       "| <!--/--> | hashedEmail &lt;chr&gt; | start_time &lt;chr&gt; | end_time &lt;chr&gt; | original_start_time &lt;dbl&gt; | original_end_time &lt;dbl&gt; | experience &lt;chr&gt; | subscribe &lt;lgl&gt; | played_hours &lt;dbl&gt; | name &lt;chr&gt; | gender &lt;chr&gt; | age &lt;dbl&gt; | individualId &lt;lgl&gt; | organizationName &lt;lgl&gt; |\n",
       "|---|---|---|---|---|---|---|---|---|---|---|---|---|---|\n",
       "| 1 | 0088b5e134c3f0498a18c7ea6b8d77b4b0ff1636fc93355ccc95b45423367832 | 23/05/2024 00:22 | 23/05/2024 01:07 | 1.71642e+12 | 1.71643e+12 | Regular  |  TRUE | 1.5 | Isaac   | Male | 20 | NA | NA |\n",
       "| 2 | 0088b5e134c3f0498a18c7ea6b8d77b4b0ff1636fc93355ccc95b45423367832 | 22/05/2024 23:12 | 23/05/2024 00:13 | 1.71642e+12 | 1.71642e+12 | Regular  |  TRUE | 1.5 | Isaac   | Male | 20 | NA | NA |\n",
       "| 3 | 060aca80f8cfbf1c91553a72f4d5ec8034764b05ab59fe8e1cf0eee9a7b67967 | 28/06/2024 04:28 | 28/06/2024 04:58 | 1.71955e+12 | 1.71955e+12 | Pro      | FALSE | 0.4 | Lyra    | Male | 21 | NA | NA |\n",
       "| 4 | 0ce7bfa910d47fc91f21a7b3acd8f33bde6db57912ce0290fa0437ce0b97f387 | 19/09/2024 21:01 | 19/09/2024 21:12 | 1.72678e+12 | 1.72678e+12 | Beginner |  TRUE | 0.1 | Osiris  | Male | 17 | NA | NA |\n",
       "| 5 | 0d4d71be33e2bc7266ee4983002bd930f69d304288a8663529c875f40f1750f3 | 31/08/2024 22:44 | 31/08/2024 23:20 | 1.72514e+12 | 1.72515e+12 | Regular  |  TRUE | 5.6 | Winslow | Male | 17 | NA | NA |\n",
       "| 6 | 0d4d71be33e2bc7266ee4983002bd930f69d304288a8663529c875f40f1750f3 | 01/09/2024 21:59 | 01/09/2024 22:36 | 1.72523e+12 | 1.72523e+12 | Regular  |  TRUE | 5.6 | Winslow | Male | 17 | NA | NA |\n",
       "\n"
      ],
      "text/plain": [
       "  hashedEmail                                                     \n",
       "1 0088b5e134c3f0498a18c7ea6b8d77b4b0ff1636fc93355ccc95b45423367832\n",
       "2 0088b5e134c3f0498a18c7ea6b8d77b4b0ff1636fc93355ccc95b45423367832\n",
       "3 060aca80f8cfbf1c91553a72f4d5ec8034764b05ab59fe8e1cf0eee9a7b67967\n",
       "4 0ce7bfa910d47fc91f21a7b3acd8f33bde6db57912ce0290fa0437ce0b97f387\n",
       "5 0d4d71be33e2bc7266ee4983002bd930f69d304288a8663529c875f40f1750f3\n",
       "6 0d4d71be33e2bc7266ee4983002bd930f69d304288a8663529c875f40f1750f3\n",
       "  start_time       end_time         original_start_time original_end_time\n",
       "1 23/05/2024 00:22 23/05/2024 01:07 1.71642e+12         1.71643e+12      \n",
       "2 22/05/2024 23:12 23/05/2024 00:13 1.71642e+12         1.71642e+12      \n",
       "3 28/06/2024 04:28 28/06/2024 04:58 1.71955e+12         1.71955e+12      \n",
       "4 19/09/2024 21:01 19/09/2024 21:12 1.72678e+12         1.72678e+12      \n",
       "5 31/08/2024 22:44 31/08/2024 23:20 1.72514e+12         1.72515e+12      \n",
       "6 01/09/2024 21:59 01/09/2024 22:36 1.72523e+12         1.72523e+12      \n",
       "  experience subscribe played_hours name    gender age individualId\n",
       "1 Regular     TRUE     1.5          Isaac   Male   20  NA          \n",
       "2 Regular     TRUE     1.5          Isaac   Male   20  NA          \n",
       "3 Pro        FALSE     0.4          Lyra    Male   21  NA          \n",
       "4 Beginner    TRUE     0.1          Osiris  Male   17  NA          \n",
       "5 Regular     TRUE     5.6          Winslow Male   17  NA          \n",
       "6 Regular     TRUE     5.6          Winslow Male   17  NA          \n",
       "  organizationName\n",
       "1 NA              \n",
       "2 NA              \n",
       "3 NA              \n",
       "4 NA              \n",
       "5 NA              \n",
       "6 NA              "
      ]
     },
     "metadata": {},
     "output_type": "display_data"
    }
   ],
   "source": [
    "#Combine data tables\n",
    "combined <- merge(sessions, players, by = \"hashedEmail\")\n",
    "head(combined)"
   ]
  },
  {
   "cell_type": "code",
   "execution_count": 31,
   "id": "30d9987a-d997-4aa8-8336-70c1ee85df6d",
   "metadata": {},
   "outputs": [],
   "source": [
    "combined_modified <- combined|>\n",
    "    mutate(experience = as_factor(experience)) |> #Convert experience and gender to factors for easier plotting and modeling\n",
    "    mutate(gender = as_factor(gender))|> \n",
    "    select( -individualId, -organizationName, -name, -hashedEmail) # remove variables with null values or unwanted coloumns"
   ]
  },
  {
   "cell_type": "code",
   "execution_count": 32,
   "id": "e5696ecb-d372-4076-8600-22e76ae463e3",
   "metadata": {},
   "outputs": [
    {
     "data": {
      "text/html": [
       "<table class=\"dataframe\">\n",
       "<caption>A data.frame: 6 × 9</caption>\n",
       "<thead>\n",
       "\t<tr><th></th><th scope=col>start_time</th><th scope=col>end_time</th><th scope=col>original_start_time</th><th scope=col>original_end_time</th><th scope=col>experience</th><th scope=col>subscribe</th><th scope=col>played_hours</th><th scope=col>gender</th><th scope=col>age</th></tr>\n",
       "\t<tr><th></th><th scope=col>&lt;chr&gt;</th><th scope=col>&lt;chr&gt;</th><th scope=col>&lt;dbl&gt;</th><th scope=col>&lt;dbl&gt;</th><th scope=col>&lt;fct&gt;</th><th scope=col>&lt;lgl&gt;</th><th scope=col>&lt;dbl&gt;</th><th scope=col>&lt;fct&gt;</th><th scope=col>&lt;dbl&gt;</th></tr>\n",
       "</thead>\n",
       "<tbody>\n",
       "\t<tr><th scope=row>1</th><td>23/05/2024 00:22</td><td>23/05/2024 01:07</td><td>1.71642e+12</td><td>1.71643e+12</td><td>Regular</td><td>TRUE</td><td>1.5</td><td>Male</td><td>20</td></tr>\n",
       "\t<tr><th scope=row>2</th><td>22/05/2024 23:12</td><td>23/05/2024 00:13</td><td>1.71642e+12</td><td>1.71642e+12</td><td>Regular</td><td>TRUE</td><td>1.5</td><td>Male</td><td>20</td></tr>\n",
       "\t<tr><th scope=row>3</th><td>30/08/2024 16:18</td><td>30/08/2024 16:38</td><td>1.72503e+12</td><td>1.72504e+12</td><td>Regular</td><td>TRUE</td><td>5.6</td><td>Male</td><td>17</td></tr>\n",
       "\t<tr><th scope=row>4</th><td>30/08/2024 04:05</td><td>30/08/2024 04:36</td><td>1.72499e+12</td><td>1.72499e+12</td><td>Regular</td><td>TRUE</td><td>5.6</td><td>Male</td><td>17</td></tr>\n",
       "\t<tr><th scope=row>5</th><td>24/08/2024 03:15</td><td>24/08/2024 03:48</td><td>1.72447e+12</td><td>1.72447e+12</td><td>Regular</td><td>TRUE</td><td>5.6</td><td>Male</td><td>17</td></tr>\n",
       "\t<tr><th scope=row>6</th><td>21/04/2024 18:27</td><td>21/04/2024 19:14</td><td>1.71372e+12</td><td>1.71373e+12</td><td>Pro    </td><td>TRUE</td><td>1.0</td><td>Male</td><td>17</td></tr>\n",
       "</tbody>\n",
       "</table>\n"
      ],
      "text/latex": [
       "A data.frame: 6 × 9\n",
       "\\begin{tabular}{r|lllllllll}\n",
       "  & start\\_time & end\\_time & original\\_start\\_time & original\\_end\\_time & experience & subscribe & played\\_hours & gender & age\\\\\n",
       "  & <chr> & <chr> & <dbl> & <dbl> & <fct> & <lgl> & <dbl> & <fct> & <dbl>\\\\\n",
       "\\hline\n",
       "\t1 & 23/05/2024 00:22 & 23/05/2024 01:07 & 1.71642e+12 & 1.71643e+12 & Regular & TRUE & 1.5 & Male & 20\\\\\n",
       "\t2 & 22/05/2024 23:12 & 23/05/2024 00:13 & 1.71642e+12 & 1.71642e+12 & Regular & TRUE & 1.5 & Male & 20\\\\\n",
       "\t3 & 30/08/2024 16:18 & 30/08/2024 16:38 & 1.72503e+12 & 1.72504e+12 & Regular & TRUE & 5.6 & Male & 17\\\\\n",
       "\t4 & 30/08/2024 04:05 & 30/08/2024 04:36 & 1.72499e+12 & 1.72499e+12 & Regular & TRUE & 5.6 & Male & 17\\\\\n",
       "\t5 & 24/08/2024 03:15 & 24/08/2024 03:48 & 1.72447e+12 & 1.72447e+12 & Regular & TRUE & 5.6 & Male & 17\\\\\n",
       "\t6 & 21/04/2024 18:27 & 21/04/2024 19:14 & 1.71372e+12 & 1.71373e+12 & Pro     & TRUE & 1.0 & Male & 17\\\\\n",
       "\\end{tabular}\n"
      ],
      "text/markdown": [
       "\n",
       "A data.frame: 6 × 9\n",
       "\n",
       "| <!--/--> | start_time &lt;chr&gt; | end_time &lt;chr&gt; | original_start_time &lt;dbl&gt; | original_end_time &lt;dbl&gt; | experience &lt;fct&gt; | subscribe &lt;lgl&gt; | played_hours &lt;dbl&gt; | gender &lt;fct&gt; | age &lt;dbl&gt; |\n",
       "|---|---|---|---|---|---|---|---|---|---|\n",
       "| 1 | 23/05/2024 00:22 | 23/05/2024 01:07 | 1.71642e+12 | 1.71643e+12 | Regular | TRUE | 1.5 | Male | 20 |\n",
       "| 2 | 22/05/2024 23:12 | 23/05/2024 00:13 | 1.71642e+12 | 1.71642e+12 | Regular | TRUE | 1.5 | Male | 20 |\n",
       "| 3 | 30/08/2024 16:18 | 30/08/2024 16:38 | 1.72503e+12 | 1.72504e+12 | Regular | TRUE | 5.6 | Male | 17 |\n",
       "| 4 | 30/08/2024 04:05 | 30/08/2024 04:36 | 1.72499e+12 | 1.72499e+12 | Regular | TRUE | 5.6 | Male | 17 |\n",
       "| 5 | 24/08/2024 03:15 | 24/08/2024 03:48 | 1.72447e+12 | 1.72447e+12 | Regular | TRUE | 5.6 | Male | 17 |\n",
       "| 6 | 21/04/2024 18:27 | 21/04/2024 19:14 | 1.71372e+12 | 1.71373e+12 | Pro     | TRUE | 1.0 | Male | 17 |\n",
       "\n"
      ],
      "text/plain": [
       "  start_time       end_time         original_start_time original_end_time\n",
       "1 23/05/2024 00:22 23/05/2024 01:07 1.71642e+12         1.71643e+12      \n",
       "2 22/05/2024 23:12 23/05/2024 00:13 1.71642e+12         1.71642e+12      \n",
       "3 30/08/2024 16:18 30/08/2024 16:38 1.72503e+12         1.72504e+12      \n",
       "4 30/08/2024 04:05 30/08/2024 04:36 1.72499e+12         1.72499e+12      \n",
       "5 24/08/2024 03:15 24/08/2024 03:48 1.72447e+12         1.72447e+12      \n",
       "6 21/04/2024 18:27 21/04/2024 19:14 1.71372e+12         1.71373e+12      \n",
       "  experience subscribe played_hours gender age\n",
       "1 Regular    TRUE      1.5          Male   20 \n",
       "2 Regular    TRUE      1.5          Male   20 \n",
       "3 Regular    TRUE      5.6          Male   17 \n",
       "4 Regular    TRUE      5.6          Male   17 \n",
       "5 Regular    TRUE      5.6          Male   17 \n",
       "6 Pro        TRUE      1.0          Male   17 "
      ]
     },
     "metadata": {},
     "output_type": "display_data"
    }
   ],
   "source": [
    "#creating training and testing split \n",
    "split <- initial_split(combined_modified, prop= 0.75, strata= played_hours)\n",
    "combined_training <- training(split)\n",
    "combined_testing <- testing(split)\n",
    "head(combined_testing)"
   ]
  },
  {
   "cell_type": "markdown",
   "id": "91657230",
   "metadata": {},
   "source": [
    "# **Results** ##"
   ]
  },
  {
   "cell_type": "markdown",
   "id": "6a36275e",
   "metadata": {},
   "source": [
    "# **Discussion** #"
   ]
  },
  {
   "cell_type": "markdown",
   "id": "f92b11aa",
   "metadata": {},
   "source": [
    "# **References** #"
   ]
  },
  {
   "cell_type": "code",
   "execution_count": null,
   "id": "0f3c12f4",
   "metadata": {},
   "outputs": [],
   "source": []
  },
  {
   "cell_type": "code",
   "execution_count": null,
   "id": "e37464fe",
   "metadata": {},
   "outputs": [],
   "source": []
  }
 ],
 "metadata": {
  "kernelspec": {
   "display_name": "R",
   "language": "R",
   "name": "ir"
  },
  "language_info": {
   "codemirror_mode": "r",
   "file_extension": ".r",
   "mimetype": "text/x-r-source",
   "name": "R",
   "pygments_lexer": "r",
   "version": "4.3.3"
  }
 },
 "nbformat": 4,
 "nbformat_minor": 5
}
