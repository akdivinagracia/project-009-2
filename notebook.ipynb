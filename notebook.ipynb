{
 "cells": [
  {
   "cell_type": "markdown",
   "id": "5bf946d5",
   "metadata": {},
   "source": [
    "# **Title** #"
   ]
  },
  {
   "cell_type": "markdown",
   "id": "c93d5705",
   "metadata": {},
   "source": [
    "By: Emma Savu (51050300), Sharon Kim (44152585), Anna Devinagracia (86144250), and Liam Sisson (54274535)"
   ]
  },
  {
   "cell_type": "markdown",
   "id": "28e48a75",
   "metadata": {
    "jp-MarkdownHeadingCollapsed": true
   },
   "source": [
    "# **Introduction** #"
   ]
  },
  {
   "cell_type": "markdown",
   "id": "b1d1514f",
   "metadata": {},
   "source": [
    "# **Methods** #"
   ]
  },
  {
   "cell_type": "markdown",
   "id": "91657230",
   "metadata": {},
   "source": [
    "# **Results** ##"
   ]
  },
  {
   "cell_type": "markdown",
   "id": "6a36275e",
   "metadata": {},
   "source": [
    "# **Discussion** #"
   ]
  },
  {
   "cell_type": "markdown",
   "id": "f92b11aa",
   "metadata": {},
   "source": [
    "# **References** #"
   ]
  },
  {
   "cell_type": "code",
   "execution_count": null,
   "id": "0f3c12f4",
   "metadata": {},
   "outputs": [],
   "source": []
  },
  {
   "cell_type": "code",
   "execution_count": null,
   "id": "e37464fe",
   "metadata": {},
   "outputs": [],
   "source": []
  }
 ],
 "metadata": {
  "kernelspec": {
   "display_name": "R",
   "language": "R",
   "name": "ir"
  },
  "language_info": {
   "codemirror_mode": "r",
   "file_extension": ".r",
   "mimetype": "text/x-r-source",
   "name": "R",
   "pygments_lexer": "r",
   "version": "4.3.3"
  }
 },
 "nbformat": 4,
 "nbformat_minor": 5
}
