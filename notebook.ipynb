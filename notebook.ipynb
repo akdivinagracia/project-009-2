{
 "cells": [
  {
   "cell_type": "markdown",
   "id": "a7d79b4c",
   "metadata": {},
   "source": [
    "# **Title** #"
   ]
  },
  {
   "cell_type": "markdown",
   "id": "0d2abe87",
   "metadata": {},
   "source": [
    "# **Introduction** #"
   ]
  },
  {
   "cell_type": "markdown",
   "id": "c9bef238",
   "metadata": {},
   "source": [
    "# **Methods** #"
   ]
  },
  {
   "cell_type": "markdown",
   "id": "856b64ba",
   "metadata": {},
   "source": [
    "# **Results** ##"
   ]
  },
  {
   "cell_type": "markdown",
   "id": "cebad6a9",
   "metadata": {},
   "source": [
    "# **Discussion** #"
   ]
  },
  {
   "cell_type": "markdown",
   "id": "effe0794",
   "metadata": {},
   "source": [
    "# **References** #"
   ]
  },
  {
   "cell_type": "code",
   "execution_count": null,
   "id": "c3260432",
   "metadata": {},
   "outputs": [],
   "source": []
  },
  {
   "cell_type": "code",
   "execution_count": null,
   "id": "a9527418",
   "metadata": {},
   "outputs": [],
   "source": []
  }
 ],
 "metadata": {
  "kernelspec": {
   "display_name": "R",
   "language": "R",
   "name": "ir"
  },
  "language_info": {
   "codemirror_mode": "r",
   "file_extension": ".r",
   "mimetype": "text/x-r-source",
   "name": "R",
   "pygments_lexer": "r",
   "version": "4.3.3"
  }
 },
 "nbformat": 4,
 "nbformat_minor": 5
}
