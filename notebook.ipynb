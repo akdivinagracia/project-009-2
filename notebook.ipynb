{
 "cells": [
  {
   "cell_type": "markdown",
   "id": "5bf946d5",
   "metadata": {},
   "source": [
    "# **Title** #"
   ]
  },
  {
   "cell_type": "markdown",
   "id": "c93d5705",
   "metadata": {},
   "source": [
    "By: Emma Savu (51050300), Sharon Kim (44152585), Anna Devinagracia (86144250), and Liam Sisson (54274535)"
   ]
  },
  {
   "cell_type": "markdown",
   "id": "28e48a75",
   "metadata": {
    "jp-MarkdownHeadingCollapsed": true
   },
   "source": [
    "# **Introduction** #"
   ]
  },
  {
   "cell_type": "markdown",
   "id": "b1d1514f",
   "metadata": {},
   "source": [
    "# **Methods** #"
   ]
  },
  {
   "cell_type": "markdown",
   "id": "b8d4c44c-1772-49f5-9898-f8a7e91f47bd",
   "metadata": {},
   "source": [
    "For the variables in the \"players\" dataset:\n",
    "\n",
    "- \"experience\": character variable indicating player skill level/experience\n",
    "- \"subscribe\": logical variable (binary) for email subscription status\n",
    "- \"hashedEmail\": character variable, unique player identifier\n",
    "- \"played_hours\": double precision, hours played to the tenth decimal\n",
    "- \"name\": character variable for player's name\n",
    "- \"gender\": character variable with 7 unique gender categories\n",
    "- \"age\": double precision for player’s age in years\n",
    "- \"individualId\": logical variable for player ID\n",
    "- \"organizationName\": logical variable for player's organization\n",
    "\n",
    "For the variables in the \"sessions\" dataset:\n",
    "\n",
    "- xxx"
   ]
  },
  {
   "cell_type": "markdown",
   "id": "91657230",
   "metadata": {},
   "source": [
    "# **Results** ##"
   ]
  },
  {
   "cell_type": "markdown",
   "id": "6a36275e",
   "metadata": {},
   "source": [
    "# **Discussion** #"
   ]
  },
  {
   "cell_type": "markdown",
   "id": "f92b11aa",
   "metadata": {},
   "source": [
    "# **References** #"
   ]
  },
  {
   "cell_type": "code",
   "execution_count": null,
   "id": "0f3c12f4",
   "metadata": {},
   "outputs": [],
   "source": []
  },
  {
   "cell_type": "code",
   "execution_count": null,
   "id": "e37464fe",
   "metadata": {},
   "outputs": [],
   "source": []
  }
 ],
 "metadata": {
  "kernelspec": {
   "display_name": "R",
   "language": "R",
   "name": "ir"
  },
  "language_info": {
   "codemirror_mode": "r",
   "file_extension": ".r",
   "mimetype": "text/x-r-source",
   "name": "R",
   "pygments_lexer": "r",
   "version": "4.3.3"
  }
 },
 "nbformat": 4,
 "nbformat_minor": 5
}
