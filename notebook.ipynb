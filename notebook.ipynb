{
 "cells": [
  {
   "cell_type": "markdown",
   "id": "3de76af3",
   "metadata": {},
   "source": [
    "hello my name is sharon"
   ]
  },
  {
   "cell_type": "code",
   "execution_count": null,
   "id": "7f717ed4",
   "metadata": {},
   "outputs": [],
   "source": []
  },
  {
   "cell_type": "code",
   "execution_count": null,
   "id": "dab29f71",
   "metadata": {},
   "outputs": [],
   "source": []
  }
 ],
 "metadata": {
  "kernelspec": {
   "display_name": "R",
   "language": "R",
   "name": "ir"
  },
  "language_info": {
   "codemirror_mode": "r",
   "file_extension": ".r",
   "mimetype": "text/x-r-source",
   "name": "R",
   "pygments_lexer": "r",
   "version": "4.3.3"
  }
 },
 "nbformat": 4,
 "nbformat_minor": 5
}
